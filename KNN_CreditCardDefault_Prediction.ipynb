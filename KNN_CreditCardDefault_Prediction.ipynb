{
  "nbformat": 4,
  "nbformat_minor": 0,
  "metadata": {
    "colab": {
      "provenance": []
    },
    "kernelspec": {
      "name": "python3",
      "display_name": "Python 3"
    },
    "language_info": {
      "name": "python"
    }
  },
  "cells": [
    {
      "cell_type": "code",
      "execution_count": null,
      "metadata": {
        "id": "3TVYIrvWm-l1",
        "colab": {
          "base_uri": "https://localhost:8080/",
          "height": 73
        },
        "outputId": "af386d6d-df84-49ec-8dff-a6361d001b21"
      },
      "outputs": [
        {
          "output_type": "display_data",
          "data": {
            "text/plain": [
              "<IPython.core.display.HTML object>"
            ],
            "text/html": [
              "\n",
              "     <input type=\"file\" id=\"files-b88dea14-061b-48c4-8834-4808d50f65b8\" name=\"files[]\" multiple disabled\n",
              "        style=\"border:none\" />\n",
              "     <output id=\"result-b88dea14-061b-48c4-8834-4808d50f65b8\">\n",
              "      Upload widget is only available when the cell has been executed in the\n",
              "      current browser session. Please rerun this cell to enable.\n",
              "      </output>\n",
              "      <script>// Copyright 2017 Google LLC\n",
              "//\n",
              "// Licensed under the Apache License, Version 2.0 (the \"License\");\n",
              "// you may not use this file except in compliance with the License.\n",
              "// You may obtain a copy of the License at\n",
              "//\n",
              "//      http://www.apache.org/licenses/LICENSE-2.0\n",
              "//\n",
              "// Unless required by applicable law or agreed to in writing, software\n",
              "// distributed under the License is distributed on an \"AS IS\" BASIS,\n",
              "// WITHOUT WARRANTIES OR CONDITIONS OF ANY KIND, either express or implied.\n",
              "// See the License for the specific language governing permissions and\n",
              "// limitations under the License.\n",
              "\n",
              "/**\n",
              " * @fileoverview Helpers for google.colab Python module.\n",
              " */\n",
              "(function(scope) {\n",
              "function span(text, styleAttributes = {}) {\n",
              "  const element = document.createElement('span');\n",
              "  element.textContent = text;\n",
              "  for (const key of Object.keys(styleAttributes)) {\n",
              "    element.style[key] = styleAttributes[key];\n",
              "  }\n",
              "  return element;\n",
              "}\n",
              "\n",
              "// Max number of bytes which will be uploaded at a time.\n",
              "const MAX_PAYLOAD_SIZE = 100 * 1024;\n",
              "\n",
              "function _uploadFiles(inputId, outputId) {\n",
              "  const steps = uploadFilesStep(inputId, outputId);\n",
              "  const outputElement = document.getElementById(outputId);\n",
              "  // Cache steps on the outputElement to make it available for the next call\n",
              "  // to uploadFilesContinue from Python.\n",
              "  outputElement.steps = steps;\n",
              "\n",
              "  return _uploadFilesContinue(outputId);\n",
              "}\n",
              "\n",
              "// This is roughly an async generator (not supported in the browser yet),\n",
              "// where there are multiple asynchronous steps and the Python side is going\n",
              "// to poll for completion of each step.\n",
              "// This uses a Promise to block the python side on completion of each step,\n",
              "// then passes the result of the previous step as the input to the next step.\n",
              "function _uploadFilesContinue(outputId) {\n",
              "  const outputElement = document.getElementById(outputId);\n",
              "  const steps = outputElement.steps;\n",
              "\n",
              "  const next = steps.next(outputElement.lastPromiseValue);\n",
              "  return Promise.resolve(next.value.promise).then((value) => {\n",
              "    // Cache the last promise value to make it available to the next\n",
              "    // step of the generator.\n",
              "    outputElement.lastPromiseValue = value;\n",
              "    return next.value.response;\n",
              "  });\n",
              "}\n",
              "\n",
              "/**\n",
              " * Generator function which is called between each async step of the upload\n",
              " * process.\n",
              " * @param {string} inputId Element ID of the input file picker element.\n",
              " * @param {string} outputId Element ID of the output display.\n",
              " * @return {!Iterable<!Object>} Iterable of next steps.\n",
              " */\n",
              "function* uploadFilesStep(inputId, outputId) {\n",
              "  const inputElement = document.getElementById(inputId);\n",
              "  inputElement.disabled = false;\n",
              "\n",
              "  const outputElement = document.getElementById(outputId);\n",
              "  outputElement.innerHTML = '';\n",
              "\n",
              "  const pickedPromise = new Promise((resolve) => {\n",
              "    inputElement.addEventListener('change', (e) => {\n",
              "      resolve(e.target.files);\n",
              "    });\n",
              "  });\n",
              "\n",
              "  const cancel = document.createElement('button');\n",
              "  inputElement.parentElement.appendChild(cancel);\n",
              "  cancel.textContent = 'Cancel upload';\n",
              "  const cancelPromise = new Promise((resolve) => {\n",
              "    cancel.onclick = () => {\n",
              "      resolve(null);\n",
              "    };\n",
              "  });\n",
              "\n",
              "  // Wait for the user to pick the files.\n",
              "  const files = yield {\n",
              "    promise: Promise.race([pickedPromise, cancelPromise]),\n",
              "    response: {\n",
              "      action: 'starting',\n",
              "    }\n",
              "  };\n",
              "\n",
              "  cancel.remove();\n",
              "\n",
              "  // Disable the input element since further picks are not allowed.\n",
              "  inputElement.disabled = true;\n",
              "\n",
              "  if (!files) {\n",
              "    return {\n",
              "      response: {\n",
              "        action: 'complete',\n",
              "      }\n",
              "    };\n",
              "  }\n",
              "\n",
              "  for (const file of files) {\n",
              "    const li = document.createElement('li');\n",
              "    li.append(span(file.name, {fontWeight: 'bold'}));\n",
              "    li.append(span(\n",
              "        `(${file.type || 'n/a'}) - ${file.size} bytes, ` +\n",
              "        `last modified: ${\n",
              "            file.lastModifiedDate ? file.lastModifiedDate.toLocaleDateString() :\n",
              "                                    'n/a'} - `));\n",
              "    const percent = span('0% done');\n",
              "    li.appendChild(percent);\n",
              "\n",
              "    outputElement.appendChild(li);\n",
              "\n",
              "    const fileDataPromise = new Promise((resolve) => {\n",
              "      const reader = new FileReader();\n",
              "      reader.onload = (e) => {\n",
              "        resolve(e.target.result);\n",
              "      };\n",
              "      reader.readAsArrayBuffer(file);\n",
              "    });\n",
              "    // Wait for the data to be ready.\n",
              "    let fileData = yield {\n",
              "      promise: fileDataPromise,\n",
              "      response: {\n",
              "        action: 'continue',\n",
              "      }\n",
              "    };\n",
              "\n",
              "    // Use a chunked sending to avoid message size limits. See b/62115660.\n",
              "    let position = 0;\n",
              "    do {\n",
              "      const length = Math.min(fileData.byteLength - position, MAX_PAYLOAD_SIZE);\n",
              "      const chunk = new Uint8Array(fileData, position, length);\n",
              "      position += length;\n",
              "\n",
              "      const base64 = btoa(String.fromCharCode.apply(null, chunk));\n",
              "      yield {\n",
              "        response: {\n",
              "          action: 'append',\n",
              "          file: file.name,\n",
              "          data: base64,\n",
              "        },\n",
              "      };\n",
              "\n",
              "      let percentDone = fileData.byteLength === 0 ?\n",
              "          100 :\n",
              "          Math.round((position / fileData.byteLength) * 100);\n",
              "      percent.textContent = `${percentDone}% done`;\n",
              "\n",
              "    } while (position < fileData.byteLength);\n",
              "  }\n",
              "\n",
              "  // All done.\n",
              "  yield {\n",
              "    response: {\n",
              "      action: 'complete',\n",
              "    }\n",
              "  };\n",
              "}\n",
              "\n",
              "scope.google = scope.google || {};\n",
              "scope.google.colab = scope.google.colab || {};\n",
              "scope.google.colab._files = {\n",
              "  _uploadFiles,\n",
              "  _uploadFilesContinue,\n",
              "};\n",
              "})(self);\n",
              "</script> "
            ]
          },
          "metadata": {}
        },
        {
          "output_type": "stream",
          "name": "stdout",
          "text": [
            "Saving credit_card_default.csv to credit_card_default.csv\n"
          ]
        }
      ],
      "source": [
        "from google.colab import files\n",
        "uploaded = files.upload()"
      ]
    },
    {
      "cell_type": "code",
      "source": [
        "# Importing necessary packages\n",
        "import numpy as np\n",
        "import pandas as pd\n",
        "import matplotlib.pyplot as plt\n",
        "import seaborn as sns\n",
        "import os\n",
        "%matplotlib inline"
      ],
      "metadata": {
        "id": "n0bSgSVuo-6V"
      },
      "execution_count": null,
      "outputs": []
    },
    {
      "cell_type": "markdown",
      "source": [
        "## Preparing credit card data set using pandas"
      ],
      "metadata": {
        "id": "YgHAC83ZxWX-"
      }
    },
    {
      "cell_type": "code",
      "source": [
        "ccd_preview = pd.read_csv('credit_card_default.csv', index_col='ID')\n",
        "ccd_preview.head(5)"
      ],
      "metadata": {
        "colab": {
          "base_uri": "https://localhost:8080/",
          "height": 383
        },
        "id": "POUf3fCnpWKu",
        "outputId": "abdd5973-0e39-425e-c11f-62fe2960ec85"
      },
      "execution_count": null,
      "outputs": [
        {
          "output_type": "execute_result",
          "data": {
            "text/plain": [
              "    LIMIT_BAL  SEX  EDUCATION  MARRIAGE  AGE  PAY_1  PAY_2  PAY_3  PAY_4  \\\n",
              "ID                                                                         \n",
              "1       20000    2          2         1   24      2      2     -1     -1   \n",
              "2      120000    2          2         2   26     -1      2      0      0   \n",
              "3       90000    2          2         2   34      0      0      0      0   \n",
              "4       50000    2          2         1   37      0      0      0      0   \n",
              "5       50000    1          2         1   57     -1      0     -1      0   \n",
              "\n",
              "    PAY_5  ...  BILL_AMT4  BILL_AMT5  BILL_AMT6  PAY_AMT1  PAY_AMT2  PAY_AMT3  \\\n",
              "ID         ...                                                                  \n",
              "1      -2  ...          0          0          0         0       689         0   \n",
              "2       0  ...       3272       3455       3261         0      1000      1000   \n",
              "3       0  ...      14331      14948      15549      1518      1500      1000   \n",
              "4       0  ...      28314      28959      29547      2000      2019      1200   \n",
              "5       0  ...      20940      19146      19131      2000     36681     10000   \n",
              "\n",
              "    PAY_AMT4  PAY_AMT5  PAY_AMT6  default payment next month  \n",
              "ID                                                            \n",
              "1          0         0         0                           1  \n",
              "2       1000         0      2000                           1  \n",
              "3       1000      1000      5000                           0  \n",
              "4       1100      1069      1000                           0  \n",
              "5       9000       689       679                           0  \n",
              "\n",
              "[5 rows x 24 columns]"
            ],
            "text/html": [
              "\n",
              "  <div id=\"df-28cc076a-79fa-4ba5-9368-34c2e55cf663\">\n",
              "    <div class=\"colab-df-container\">\n",
              "      <div>\n",
              "<style scoped>\n",
              "    .dataframe tbody tr th:only-of-type {\n",
              "        vertical-align: middle;\n",
              "    }\n",
              "\n",
              "    .dataframe tbody tr th {\n",
              "        vertical-align: top;\n",
              "    }\n",
              "\n",
              "    .dataframe thead th {\n",
              "        text-align: right;\n",
              "    }\n",
              "</style>\n",
              "<table border=\"1\" class=\"dataframe\">\n",
              "  <thead>\n",
              "    <tr style=\"text-align: right;\">\n",
              "      <th></th>\n",
              "      <th>LIMIT_BAL</th>\n",
              "      <th>SEX</th>\n",
              "      <th>EDUCATION</th>\n",
              "      <th>MARRIAGE</th>\n",
              "      <th>AGE</th>\n",
              "      <th>PAY_1</th>\n",
              "      <th>PAY_2</th>\n",
              "      <th>PAY_3</th>\n",
              "      <th>PAY_4</th>\n",
              "      <th>PAY_5</th>\n",
              "      <th>...</th>\n",
              "      <th>BILL_AMT4</th>\n",
              "      <th>BILL_AMT5</th>\n",
              "      <th>BILL_AMT6</th>\n",
              "      <th>PAY_AMT1</th>\n",
              "      <th>PAY_AMT2</th>\n",
              "      <th>PAY_AMT3</th>\n",
              "      <th>PAY_AMT4</th>\n",
              "      <th>PAY_AMT5</th>\n",
              "      <th>PAY_AMT6</th>\n",
              "      <th>default payment next month</th>\n",
              "    </tr>\n",
              "    <tr>\n",
              "      <th>ID</th>\n",
              "      <th></th>\n",
              "      <th></th>\n",
              "      <th></th>\n",
              "      <th></th>\n",
              "      <th></th>\n",
              "      <th></th>\n",
              "      <th></th>\n",
              "      <th></th>\n",
              "      <th></th>\n",
              "      <th></th>\n",
              "      <th></th>\n",
              "      <th></th>\n",
              "      <th></th>\n",
              "      <th></th>\n",
              "      <th></th>\n",
              "      <th></th>\n",
              "      <th></th>\n",
              "      <th></th>\n",
              "      <th></th>\n",
              "      <th></th>\n",
              "      <th></th>\n",
              "    </tr>\n",
              "  </thead>\n",
              "  <tbody>\n",
              "    <tr>\n",
              "      <th>1</th>\n",
              "      <td>20000</td>\n",
              "      <td>2</td>\n",
              "      <td>2</td>\n",
              "      <td>1</td>\n",
              "      <td>24</td>\n",
              "      <td>2</td>\n",
              "      <td>2</td>\n",
              "      <td>-1</td>\n",
              "      <td>-1</td>\n",
              "      <td>-2</td>\n",
              "      <td>...</td>\n",
              "      <td>0</td>\n",
              "      <td>0</td>\n",
              "      <td>0</td>\n",
              "      <td>0</td>\n",
              "      <td>689</td>\n",
              "      <td>0</td>\n",
              "      <td>0</td>\n",
              "      <td>0</td>\n",
              "      <td>0</td>\n",
              "      <td>1</td>\n",
              "    </tr>\n",
              "    <tr>\n",
              "      <th>2</th>\n",
              "      <td>120000</td>\n",
              "      <td>2</td>\n",
              "      <td>2</td>\n",
              "      <td>2</td>\n",
              "      <td>26</td>\n",
              "      <td>-1</td>\n",
              "      <td>2</td>\n",
              "      <td>0</td>\n",
              "      <td>0</td>\n",
              "      <td>0</td>\n",
              "      <td>...</td>\n",
              "      <td>3272</td>\n",
              "      <td>3455</td>\n",
              "      <td>3261</td>\n",
              "      <td>0</td>\n",
              "      <td>1000</td>\n",
              "      <td>1000</td>\n",
              "      <td>1000</td>\n",
              "      <td>0</td>\n",
              "      <td>2000</td>\n",
              "      <td>1</td>\n",
              "    </tr>\n",
              "    <tr>\n",
              "      <th>3</th>\n",
              "      <td>90000</td>\n",
              "      <td>2</td>\n",
              "      <td>2</td>\n",
              "      <td>2</td>\n",
              "      <td>34</td>\n",
              "      <td>0</td>\n",
              "      <td>0</td>\n",
              "      <td>0</td>\n",
              "      <td>0</td>\n",
              "      <td>0</td>\n",
              "      <td>...</td>\n",
              "      <td>14331</td>\n",
              "      <td>14948</td>\n",
              "      <td>15549</td>\n",
              "      <td>1518</td>\n",
              "      <td>1500</td>\n",
              "      <td>1000</td>\n",
              "      <td>1000</td>\n",
              "      <td>1000</td>\n",
              "      <td>5000</td>\n",
              "      <td>0</td>\n",
              "    </tr>\n",
              "    <tr>\n",
              "      <th>4</th>\n",
              "      <td>50000</td>\n",
              "      <td>2</td>\n",
              "      <td>2</td>\n",
              "      <td>1</td>\n",
              "      <td>37</td>\n",
              "      <td>0</td>\n",
              "      <td>0</td>\n",
              "      <td>0</td>\n",
              "      <td>0</td>\n",
              "      <td>0</td>\n",
              "      <td>...</td>\n",
              "      <td>28314</td>\n",
              "      <td>28959</td>\n",
              "      <td>29547</td>\n",
              "      <td>2000</td>\n",
              "      <td>2019</td>\n",
              "      <td>1200</td>\n",
              "      <td>1100</td>\n",
              "      <td>1069</td>\n",
              "      <td>1000</td>\n",
              "      <td>0</td>\n",
              "    </tr>\n",
              "    <tr>\n",
              "      <th>5</th>\n",
              "      <td>50000</td>\n",
              "      <td>1</td>\n",
              "      <td>2</td>\n",
              "      <td>1</td>\n",
              "      <td>57</td>\n",
              "      <td>-1</td>\n",
              "      <td>0</td>\n",
              "      <td>-1</td>\n",
              "      <td>0</td>\n",
              "      <td>0</td>\n",
              "      <td>...</td>\n",
              "      <td>20940</td>\n",
              "      <td>19146</td>\n",
              "      <td>19131</td>\n",
              "      <td>2000</td>\n",
              "      <td>36681</td>\n",
              "      <td>10000</td>\n",
              "      <td>9000</td>\n",
              "      <td>689</td>\n",
              "      <td>679</td>\n",
              "      <td>0</td>\n",
              "    </tr>\n",
              "  </tbody>\n",
              "</table>\n",
              "<p>5 rows × 24 columns</p>\n",
              "</div>\n",
              "      <button class=\"colab-df-convert\" onclick=\"convertToInteractive('df-28cc076a-79fa-4ba5-9368-34c2e55cf663')\"\n",
              "              title=\"Convert this dataframe to an interactive table.\"\n",
              "              style=\"display:none;\">\n",
              "        \n",
              "  <svg xmlns=\"http://www.w3.org/2000/svg\" height=\"24px\"viewBox=\"0 0 24 24\"\n",
              "       width=\"24px\">\n",
              "    <path d=\"M0 0h24v24H0V0z\" fill=\"none\"/>\n",
              "    <path d=\"M18.56 5.44l.94 2.06.94-2.06 2.06-.94-2.06-.94-.94-2.06-.94 2.06-2.06.94zm-11 1L8.5 8.5l.94-2.06 2.06-.94-2.06-.94L8.5 2.5l-.94 2.06-2.06.94zm10 10l.94 2.06.94-2.06 2.06-.94-2.06-.94-.94-2.06-.94 2.06-2.06.94z\"/><path d=\"M17.41 7.96l-1.37-1.37c-.4-.4-.92-.59-1.43-.59-.52 0-1.04.2-1.43.59L10.3 9.45l-7.72 7.72c-.78.78-.78 2.05 0 2.83L4 21.41c.39.39.9.59 1.41.59.51 0 1.02-.2 1.41-.59l7.78-7.78 2.81-2.81c.8-.78.8-2.07 0-2.86zM5.41 20L4 18.59l7.72-7.72 1.47 1.35L5.41 20z\"/>\n",
              "  </svg>\n",
              "      </button>\n",
              "      \n",
              "  <style>\n",
              "    .colab-df-container {\n",
              "      display:flex;\n",
              "      flex-wrap:wrap;\n",
              "      gap: 12px;\n",
              "    }\n",
              "\n",
              "    .colab-df-convert {\n",
              "      background-color: #E8F0FE;\n",
              "      border: none;\n",
              "      border-radius: 50%;\n",
              "      cursor: pointer;\n",
              "      display: none;\n",
              "      fill: #1967D2;\n",
              "      height: 32px;\n",
              "      padding: 0 0 0 0;\n",
              "      width: 32px;\n",
              "    }\n",
              "\n",
              "    .colab-df-convert:hover {\n",
              "      background-color: #E2EBFA;\n",
              "      box-shadow: 0px 1px 2px rgba(60, 64, 67, 0.3), 0px 1px 3px 1px rgba(60, 64, 67, 0.15);\n",
              "      fill: #174EA6;\n",
              "    }\n",
              "\n",
              "    [theme=dark] .colab-df-convert {\n",
              "      background-color: #3B4455;\n",
              "      fill: #D2E3FC;\n",
              "    }\n",
              "\n",
              "    [theme=dark] .colab-df-convert:hover {\n",
              "      background-color: #434B5C;\n",
              "      box-shadow: 0px 1px 3px 1px rgba(0, 0, 0, 0.15);\n",
              "      filter: drop-shadow(0px 1px 2px rgba(0, 0, 0, 0.3));\n",
              "      fill: #FFFFFF;\n",
              "    }\n",
              "  </style>\n",
              "\n",
              "      <script>\n",
              "        const buttonEl =\n",
              "          document.querySelector('#df-28cc076a-79fa-4ba5-9368-34c2e55cf663 button.colab-df-convert');\n",
              "        buttonEl.style.display =\n",
              "          google.colab.kernel.accessAllowed ? 'block' : 'none';\n",
              "\n",
              "        async function convertToInteractive(key) {\n",
              "          const element = document.querySelector('#df-28cc076a-79fa-4ba5-9368-34c2e55cf663');\n",
              "          const dataTable =\n",
              "            await google.colab.kernel.invokeFunction('convertToInteractive',\n",
              "                                                     [key], {});\n",
              "          if (!dataTable) return;\n",
              "\n",
              "          const docLinkHtml = 'Like what you see? Visit the ' +\n",
              "            '<a target=\"_blank\" href=https://colab.research.google.com/notebooks/data_table.ipynb>data table notebook</a>'\n",
              "            + ' to learn more about interactive tables.';\n",
              "          element.innerHTML = '';\n",
              "          dataTable['output_type'] = 'display_data';\n",
              "          await google.colab.output.renderOutput(dataTable, element);\n",
              "          const docLink = document.createElement('div');\n",
              "          docLink.innerHTML = docLinkHtml;\n",
              "          element.appendChild(docLink);\n",
              "        }\n",
              "      </script>\n",
              "    </div>\n",
              "  </div>\n",
              "  "
            ]
          },
          "metadata": {},
          "execution_count": 3
        }
      ]
    },
    {
      "cell_type": "code",
      "source": [
        "ccd = pd.read_csv('credit_card_default.csv', index_col='ID')\n",
        "ccd.rename(columns=lambda x: x.lower(), inplace=True)\n",
        "ccd.rename(columns={'default payment next month': 'default'}, inplace=True)"
      ],
      "metadata": {
        "id": "KB8ZM_wrpE-j"
      },
      "execution_count": null,
      "outputs": []
    },
    {
      "cell_type": "code",
      "source": [
        "ccd.head(5)"
      ],
      "metadata": {
        "colab": {
          "base_uri": "https://localhost:8080/",
          "height": 331
        },
        "id": "RNNmy33Fpj9b",
        "outputId": "4d2d04f8-6365-4a35-c38a-59c59457870a"
      },
      "execution_count": null,
      "outputs": [
        {
          "output_type": "execute_result",
          "data": {
            "text/plain": [
              "    limit_bal  sex  education  marriage  age  pay_1  pay_2  pay_3  pay_4  \\\n",
              "ID                                                                         \n",
              "1       20000    2          2         1   24      2      2     -1     -1   \n",
              "2      120000    2          2         2   26     -1      2      0      0   \n",
              "3       90000    2          2         2   34      0      0      0      0   \n",
              "4       50000    2          2         1   37      0      0      0      0   \n",
              "5       50000    1          2         1   57     -1      0     -1      0   \n",
              "\n",
              "    pay_5  ...  bill_amt4  bill_amt5  bill_amt6  pay_amt1  pay_amt2  pay_amt3  \\\n",
              "ID         ...                                                                  \n",
              "1      -2  ...          0          0          0         0       689         0   \n",
              "2       0  ...       3272       3455       3261         0      1000      1000   \n",
              "3       0  ...      14331      14948      15549      1518      1500      1000   \n",
              "4       0  ...      28314      28959      29547      2000      2019      1200   \n",
              "5       0  ...      20940      19146      19131      2000     36681     10000   \n",
              "\n",
              "    pay_amt4  pay_amt5  pay_amt6  default  \n",
              "ID                                         \n",
              "1          0         0         0        1  \n",
              "2       1000         0      2000        1  \n",
              "3       1000      1000      5000        0  \n",
              "4       1100      1069      1000        0  \n",
              "5       9000       689       679        0  \n",
              "\n",
              "[5 rows x 24 columns]"
            ],
            "text/html": [
              "\n",
              "  <div id=\"df-8a86e5db-3555-4829-8ef7-ec45c3358d0b\">\n",
              "    <div class=\"colab-df-container\">\n",
              "      <div>\n",
              "<style scoped>\n",
              "    .dataframe tbody tr th:only-of-type {\n",
              "        vertical-align: middle;\n",
              "    }\n",
              "\n",
              "    .dataframe tbody tr th {\n",
              "        vertical-align: top;\n",
              "    }\n",
              "\n",
              "    .dataframe thead th {\n",
              "        text-align: right;\n",
              "    }\n",
              "</style>\n",
              "<table border=\"1\" class=\"dataframe\">\n",
              "  <thead>\n",
              "    <tr style=\"text-align: right;\">\n",
              "      <th></th>\n",
              "      <th>limit_bal</th>\n",
              "      <th>sex</th>\n",
              "      <th>education</th>\n",
              "      <th>marriage</th>\n",
              "      <th>age</th>\n",
              "      <th>pay_1</th>\n",
              "      <th>pay_2</th>\n",
              "      <th>pay_3</th>\n",
              "      <th>pay_4</th>\n",
              "      <th>pay_5</th>\n",
              "      <th>...</th>\n",
              "      <th>bill_amt4</th>\n",
              "      <th>bill_amt5</th>\n",
              "      <th>bill_amt6</th>\n",
              "      <th>pay_amt1</th>\n",
              "      <th>pay_amt2</th>\n",
              "      <th>pay_amt3</th>\n",
              "      <th>pay_amt4</th>\n",
              "      <th>pay_amt5</th>\n",
              "      <th>pay_amt6</th>\n",
              "      <th>default</th>\n",
              "    </tr>\n",
              "    <tr>\n",
              "      <th>ID</th>\n",
              "      <th></th>\n",
              "      <th></th>\n",
              "      <th></th>\n",
              "      <th></th>\n",
              "      <th></th>\n",
              "      <th></th>\n",
              "      <th></th>\n",
              "      <th></th>\n",
              "      <th></th>\n",
              "      <th></th>\n",
              "      <th></th>\n",
              "      <th></th>\n",
              "      <th></th>\n",
              "      <th></th>\n",
              "      <th></th>\n",
              "      <th></th>\n",
              "      <th></th>\n",
              "      <th></th>\n",
              "      <th></th>\n",
              "      <th></th>\n",
              "      <th></th>\n",
              "    </tr>\n",
              "  </thead>\n",
              "  <tbody>\n",
              "    <tr>\n",
              "      <th>1</th>\n",
              "      <td>20000</td>\n",
              "      <td>2</td>\n",
              "      <td>2</td>\n",
              "      <td>1</td>\n",
              "      <td>24</td>\n",
              "      <td>2</td>\n",
              "      <td>2</td>\n",
              "      <td>-1</td>\n",
              "      <td>-1</td>\n",
              "      <td>-2</td>\n",
              "      <td>...</td>\n",
              "      <td>0</td>\n",
              "      <td>0</td>\n",
              "      <td>0</td>\n",
              "      <td>0</td>\n",
              "      <td>689</td>\n",
              "      <td>0</td>\n",
              "      <td>0</td>\n",
              "      <td>0</td>\n",
              "      <td>0</td>\n",
              "      <td>1</td>\n",
              "    </tr>\n",
              "    <tr>\n",
              "      <th>2</th>\n",
              "      <td>120000</td>\n",
              "      <td>2</td>\n",
              "      <td>2</td>\n",
              "      <td>2</td>\n",
              "      <td>26</td>\n",
              "      <td>-1</td>\n",
              "      <td>2</td>\n",
              "      <td>0</td>\n",
              "      <td>0</td>\n",
              "      <td>0</td>\n",
              "      <td>...</td>\n",
              "      <td>3272</td>\n",
              "      <td>3455</td>\n",
              "      <td>3261</td>\n",
              "      <td>0</td>\n",
              "      <td>1000</td>\n",
              "      <td>1000</td>\n",
              "      <td>1000</td>\n",
              "      <td>0</td>\n",
              "      <td>2000</td>\n",
              "      <td>1</td>\n",
              "    </tr>\n",
              "    <tr>\n",
              "      <th>3</th>\n",
              "      <td>90000</td>\n",
              "      <td>2</td>\n",
              "      <td>2</td>\n",
              "      <td>2</td>\n",
              "      <td>34</td>\n",
              "      <td>0</td>\n",
              "      <td>0</td>\n",
              "      <td>0</td>\n",
              "      <td>0</td>\n",
              "      <td>0</td>\n",
              "      <td>...</td>\n",
              "      <td>14331</td>\n",
              "      <td>14948</td>\n",
              "      <td>15549</td>\n",
              "      <td>1518</td>\n",
              "      <td>1500</td>\n",
              "      <td>1000</td>\n",
              "      <td>1000</td>\n",
              "      <td>1000</td>\n",
              "      <td>5000</td>\n",
              "      <td>0</td>\n",
              "    </tr>\n",
              "    <tr>\n",
              "      <th>4</th>\n",
              "      <td>50000</td>\n",
              "      <td>2</td>\n",
              "      <td>2</td>\n",
              "      <td>1</td>\n",
              "      <td>37</td>\n",
              "      <td>0</td>\n",
              "      <td>0</td>\n",
              "      <td>0</td>\n",
              "      <td>0</td>\n",
              "      <td>0</td>\n",
              "      <td>...</td>\n",
              "      <td>28314</td>\n",
              "      <td>28959</td>\n",
              "      <td>29547</td>\n",
              "      <td>2000</td>\n",
              "      <td>2019</td>\n",
              "      <td>1200</td>\n",
              "      <td>1100</td>\n",
              "      <td>1069</td>\n",
              "      <td>1000</td>\n",
              "      <td>0</td>\n",
              "    </tr>\n",
              "    <tr>\n",
              "      <th>5</th>\n",
              "      <td>50000</td>\n",
              "      <td>1</td>\n",
              "      <td>2</td>\n",
              "      <td>1</td>\n",
              "      <td>57</td>\n",
              "      <td>-1</td>\n",
              "      <td>0</td>\n",
              "      <td>-1</td>\n",
              "      <td>0</td>\n",
              "      <td>0</td>\n",
              "      <td>...</td>\n",
              "      <td>20940</td>\n",
              "      <td>19146</td>\n",
              "      <td>19131</td>\n",
              "      <td>2000</td>\n",
              "      <td>36681</td>\n",
              "      <td>10000</td>\n",
              "      <td>9000</td>\n",
              "      <td>689</td>\n",
              "      <td>679</td>\n",
              "      <td>0</td>\n",
              "    </tr>\n",
              "  </tbody>\n",
              "</table>\n",
              "<p>5 rows × 24 columns</p>\n",
              "</div>\n",
              "      <button class=\"colab-df-convert\" onclick=\"convertToInteractive('df-8a86e5db-3555-4829-8ef7-ec45c3358d0b')\"\n",
              "              title=\"Convert this dataframe to an interactive table.\"\n",
              "              style=\"display:none;\">\n",
              "        \n",
              "  <svg xmlns=\"http://www.w3.org/2000/svg\" height=\"24px\"viewBox=\"0 0 24 24\"\n",
              "       width=\"24px\">\n",
              "    <path d=\"M0 0h24v24H0V0z\" fill=\"none\"/>\n",
              "    <path d=\"M18.56 5.44l.94 2.06.94-2.06 2.06-.94-2.06-.94-.94-2.06-.94 2.06-2.06.94zm-11 1L8.5 8.5l.94-2.06 2.06-.94-2.06-.94L8.5 2.5l-.94 2.06-2.06.94zm10 10l.94 2.06.94-2.06 2.06-.94-2.06-.94-.94-2.06-.94 2.06-2.06.94z\"/><path d=\"M17.41 7.96l-1.37-1.37c-.4-.4-.92-.59-1.43-.59-.52 0-1.04.2-1.43.59L10.3 9.45l-7.72 7.72c-.78.78-.78 2.05 0 2.83L4 21.41c.39.39.9.59 1.41.59.51 0 1.02-.2 1.41-.59l7.78-7.78 2.81-2.81c.8-.78.8-2.07 0-2.86zM5.41 20L4 18.59l7.72-7.72 1.47 1.35L5.41 20z\"/>\n",
              "  </svg>\n",
              "      </button>\n",
              "      \n",
              "  <style>\n",
              "    .colab-df-container {\n",
              "      display:flex;\n",
              "      flex-wrap:wrap;\n",
              "      gap: 12px;\n",
              "    }\n",
              "\n",
              "    .colab-df-convert {\n",
              "      background-color: #E8F0FE;\n",
              "      border: none;\n",
              "      border-radius: 50%;\n",
              "      cursor: pointer;\n",
              "      display: none;\n",
              "      fill: #1967D2;\n",
              "      height: 32px;\n",
              "      padding: 0 0 0 0;\n",
              "      width: 32px;\n",
              "    }\n",
              "\n",
              "    .colab-df-convert:hover {\n",
              "      background-color: #E2EBFA;\n",
              "      box-shadow: 0px 1px 2px rgba(60, 64, 67, 0.3), 0px 1px 3px 1px rgba(60, 64, 67, 0.15);\n",
              "      fill: #174EA6;\n",
              "    }\n",
              "\n",
              "    [theme=dark] .colab-df-convert {\n",
              "      background-color: #3B4455;\n",
              "      fill: #D2E3FC;\n",
              "    }\n",
              "\n",
              "    [theme=dark] .colab-df-convert:hover {\n",
              "      background-color: #434B5C;\n",
              "      box-shadow: 0px 1px 3px 1px rgba(0, 0, 0, 0.15);\n",
              "      filter: drop-shadow(0px 1px 2px rgba(0, 0, 0, 0.3));\n",
              "      fill: #FFFFFF;\n",
              "    }\n",
              "  </style>\n",
              "\n",
              "      <script>\n",
              "        const buttonEl =\n",
              "          document.querySelector('#df-8a86e5db-3555-4829-8ef7-ec45c3358d0b button.colab-df-convert');\n",
              "        buttonEl.style.display =\n",
              "          google.colab.kernel.accessAllowed ? 'block' : 'none';\n",
              "\n",
              "        async function convertToInteractive(key) {\n",
              "          const element = document.querySelector('#df-8a86e5db-3555-4829-8ef7-ec45c3358d0b');\n",
              "          const dataTable =\n",
              "            await google.colab.kernel.invokeFunction('convertToInteractive',\n",
              "                                                     [key], {});\n",
              "          if (!dataTable) return;\n",
              "\n",
              "          const docLinkHtml = 'Like what you see? Visit the ' +\n",
              "            '<a target=\"_blank\" href=https://colab.research.google.com/notebooks/data_table.ipynb>data table notebook</a>'\n",
              "            + ' to learn more about interactive tables.';\n",
              "          element.innerHTML = '';\n",
              "          dataTable['output_type'] = 'display_data';\n",
              "          await google.colab.output.renderOutput(dataTable, element);\n",
              "          const docLink = document.createElement('div');\n",
              "          docLink.innerHTML = docLinkHtml;\n",
              "          element.appendChild(docLink);\n",
              "        }\n",
              "      </script>\n",
              "    </div>\n",
              "  </div>\n",
              "  "
            ]
          },
          "metadata": {},
          "execution_count": 5
        }
      ]
    },
    {
      "cell_type": "code",
      "source": [
        "#Getting the groups of features\n",
        "bill_amt_features = ['bill_amt' + str(i) for i in range(1,7)]\n",
        "pay_amt_features = ['pay_amt' + str(i) for i in range(1,7)]\n",
        "numerical_features = ['limit_bal', 'age'] + bill_amt_features + pay_amt_features"
      ],
      "metadata": {
        "id": "7Zbeb-M5pm18"
      },
      "execution_count": null,
      "outputs": []
    },
    {
      "cell_type": "code",
      "source": [
        "#Creating the binary features\n",
        "ccd['male'] = (ccd['sex'] == 1).astype('int')\n",
        "ccd['grad_school'] = (ccd['education'] == 1).astype('int')\n",
        "ccd['university'] = (ccd['education'] == 2).astype('int')\n",
        "ccd['married'] = (ccd['education'] == 1).astype('int')"
      ],
      "metadata": {
        "id": "MshRGF_6rSze"
      },
      "execution_count": null,
      "outputs": []
    },
    {
      "cell_type": "code",
      "source": [
        "#simplifying pay features\n",
        "pay_features = ['pay_' + str(i) for i in range(1,7)]\n",
        "for x in pay_features:\n",
        "  ccd.loc[ccd[x] <=0, x] = 0"
      ],
      "metadata": {
        "id": "YNXCnQeNryaV"
      },
      "execution_count": null,
      "outputs": []
    },
    {
      "cell_type": "code",
      "source": [
        "# simplifying delayed features\n",
        "delayed_features = ['delayed_' + str(i) for i in range(1,7)]\n",
        "for pay, delayed in zip(pay_features, delayed_features):\n",
        "  ccd[delayed] = (ccd[pay] > 0).astype(int)\n",
        "  # creating new features months delayed\n",
        "ccd['months_delayed'] = ccd[delayed_features].sum(axis=1)"
      ],
      "metadata": {
        "id": "rMtkK92TsLsE"
      },
      "execution_count": null,
      "outputs": []
    },
    {
      "cell_type": "markdown",
      "source": [
        "## Data set is prepared, can be exported as CSV file at this point\n"
      ],
      "metadata": {
        "id": "HsFFaFUzxcCY"
      }
    },
    {
      "cell_type": "markdown",
      "source": [
        "### Train Test Val split\n",
        "This data set can be split into train, test, and validation splits by applying sklearn's train test split twice.\n",
        "\n",
        "I apply cross validation later in this notebook."
      ],
      "metadata": {
        "id": "GCxEsdnsyTs1"
      }
    },
    {
      "cell_type": "code",
      "source": [
        "# Put features into X and Y variables\n",
        "numerical_features = numerical_features + ['months_delayed']\n",
        "binary_features = ['male', 'married', 'grad_school', 'university']\n",
        "X = ccd[numerical_features + binary_features]\n",
        "y = ccd['default'].astype(int)"
      ],
      "metadata": {
        "id": "MoULkO6ozbi6"
      },
      "execution_count": null,
      "outputs": []
    },
    {
      "cell_type": "code",
      "source": [
        "# train test split\n",
        "from sklearn.model_selection import train_test_split\n",
        "X_train, X_test, y_train, y_test = train_test_split(X, y, test_size = 1/5, random_state=1)\n",
        "\n",
        "#Setting aside a set of training data without splitting validation for later cross validation\n",
        "X_2 = X_train.copy()\n",
        "y_2 = y_train.copy()\n",
        "\n",
        "#Train and validation split\n",
        "X_train, X_val, y_train, y_val = train_test_split(X, y, test_size = 1/4, random_state=1)"
      ],
      "metadata": {
        "id": "v20OccTSxmnz"
      },
      "execution_count": null,
      "outputs": []
    },
    {
      "cell_type": "markdown",
      "source": [
        "![Normalization.png](data:image/png;base64,iVBORw0KGgoAAAANSUhEUgAAAPAAAABXCAIAAAC1Ll+TAAAKMklEQVR42u2cv2vbWhvH9WdoNXh4Ax3izR4j6BBDhxoy1JAhiA5BZLiIDMV0MaJDEB2CuEMRGQryEJCHgDoElCWgDAFlCLhDQB4yaPCgIYOGDHnPL8lynPamsZXayffDHVQ7PtckHz16zjnPeaQ7AF4QEn4FAEIDAKEBgNAAQGgAoQGA0ABAaAAgNAAQGkBoACA0ABAaAAgNAIQGEBoACA0AhAYAQgMAoV8MaTIMvZ5lnybj15LIOzDNfXdwM8O48SDo21Z/kOYv3cZBzzL37GAEoUEZjAL7q2nutioSoWGcMfdGfqcuMWTj/EnD3kbevml+VhWZDtLuRUzwyN6U+bjtwxhCgxKJvreoaOt2dBc5m4pBovVtmiTprMH/tFOjSnf8NA26Svt7RB8IMw8LocF/EpqrRL2attNWusH8jEvcLXqntHY0ZdOJkEOD5zN6jwZTabUTTOXNQVd6HEYwbXRfZW+1nCEmheA5+Wk1RHowlZAcmebeY/7zHojBN55GhW7aV7PkLjQpdy5SCA0eqwzJcWU2Z9OP5+lN1GtX2LjKtxkyjkuLfDml6ycQGjxK5zND2XT9gyY1etefm9FDp71m+EcdavRbGzk0eBZuAmOt7V7f3V07LZ7vXtMXzc/ebBGRLZick7sjMKjRNbYsGLmfrPD2D+61+Nz3+7a554QJhAa/4cJsSLLyUWtV5WxhWCxKyO90fUN94jRu5GmyVNnQ1DW58SVMizPOuqpvtcRqN/vfhYem9k5Zqev+cGB/XJEluXkQkZetD/Ra7Re+1aoZcsFHob3TVN5UtKM4Obfab8i9UjHPITS4dttEBnlFPShs5g1dtSpJ1Zb15BlYGhp0X6bSLKa89CFAFFX0o3t5Bw3e8ntN+6C7xzZ5PsgbmvbRCM7odWN/wAb0dRLed8ejBV3yvVudr7r6xQ++kR+s6ScJhAYL8ZRgOy9Nev/w61XNJU+GM+J5puk5TVhavXxzkS+ZS40duqhC5ZY1r7S9dAgN/iTL/qZQnQ8G2XVN69MQHn6t5Zqy1xvWZfaZK1uh2YvujzK5N5zydtIhNHg8ibedb+XEzgbR1GBJd2S/zTWN3U3yM0a+exkftmmOcZzkctO0+y8InSbRhefs6+railxV7Z+TKRqZB2w1aIkMSbN+xPhTvwqKyXFC919qfNc9domzzW++9z1I7oIOseKDYXZNtsqR+rtjv+MeTaA73x2zFz2v0Fce20nqkJmv2CWV2TqRmIh4Wn28fyqmAkv9l0qeTPqKhKaJsqwdMU+P9fHc7tJiyy92eMNEp2smhj8cTyLzCeJgvyFVm9pBWN5v7T9TjiToNoTSn/gCfkSeNY0dJ4zjwZnvn4Tx7bL/oQJDejKdAJF7kXhEDn3j6yJMq+6IpPzNLHN6MUDoVyV0vsxOjO4aTanBNpMAWFqhxcoLz5i/hND56b9uMBtzEvoustf5gMpMVYUQGiyG0Gx+yqh9DeElWPKUY+i0s+W7vOjkJYFlu1cldOxuyo2ua2+JGG1evLBfAlY5XpPQ8WFbZrudyZEmjN4LfxvrovA0SsQ/4/DED34mUz8WBz1T21CUt6q+7w6SwsfjQXDiez3LOqEbkPGZY+1ZrtinZG+fkXfdkB2kS648m7x7mX2e95E48KIbCA2hf5ls1DqnzKfU7/DEI6+WGjrqRzfOZApPHNEggp2hiI50RX4gqKcXVqsqye9M2r4kCWjtYj4gNdbVeIuJsyT4kg1AB6SV4+5nJUt70vBrU7zLz9UV9i9nOj4EXpjQ0aGmvG3p/UF0ZqlVqTE+JZ/6nzJDt93B0OvU750NZgUrkqQdJVGvrey40cjTJhugpOcmlbRu5GeVWXFWYa4pTmHoTk+rvGuyM0bjchbej0LuBnT8bpD85OuJLefM09bazjChlQOELuImhBaEhjx+oMprxsQp+Su7WXizfa/EJOH6tqyeIbo6sHIWYnh2Nig0aRCVi+c6WcGKJG2KSM+KBCTpf7XaGp19Jpe+f5YlMLzaS5LUXV2MPxRnkNqbCjtYkXKhl6jTD3iGCK2usJMRzV1nuleaeLfanDrLwItXqK9yVff5B1mtd17/mvzQ5Kl1kvCLXBSanW7ID7Tdy7z57UHvCD5+ntY3RY7Ba8mxWA6h5wGt8pYmAjBPJ7KMVsTXyZVscZwhe5FV1kq/qAHnRySygq88Hkv17A7hO5qygYQDQs9O5Lxnum3nZ495Sk2mdxPuTvSREI5ms0aRQMudkwfWd/ntwRq6FQfM/c4C9hyP9T8HZXUTLfdLL2qr0vkJnUx13BGv6JlfIjvP/B7PMuV7CfRD3YDEUQiSQPeTu4fjsQjYud9LQEndREtlsVuVzk1o4WIxVeApNZH1JnTorSxSjrHQfIopt/OlEp5AP7zOLRJo1oOiOJscx2MesOnCS3TiDZYqSpfUTbTcIL2QrUrnJjRPoIsLwCKl3tD0D2KphEgv577yOCQ3zfH5e55Ay4UQPjXjHLfzmVrQEOmKavVMY/lOhZXUTbRUFrFV6byE5i5ObKCQqFORKveWSqK+3qzKK2uNlTeK2i3sEeZGPpxvTC1Xi+4+hQWNkadVpUpdNU+TuyXkN91ES+WFtSrFqe+F4dfdRMvNdl5Wq1IIvSgZaUndRMu9GRavVSmEXgydS+omWioL2aoUQi8A8+0mehuHtPmn5Z4E9Ex+fnPcFG6TNElmzdQXtFUphP57PL6b6G3k/9tpv21U1u1B7BvrFUmq0L2noauz67yZZ/rTVqsNrTdI+CbAqk4e5PGxZe7SykR5h94h0aHKOgTp3hOc/oNWpXfJuWvSvqMN/TgaHNCKCfmdTXuV7rfp9RbffJhzq1II/ff4o26iLHjXtjT1gxX0O6zgUdP/cQZHHbpX+iPJB2zucc9YkXdhW4D2n5Bk48Bub7tRSnhabvRHrUp5a8aWtt3W+779XqLXO6pxGtDrukUbFM27VSmEXg7Ern5d866z63UzvOG7S3yRIfG2ZRqS+c4zi9ATXeRGrspHGD7btxa1Cc19co9lC+20uWOhndK8W5VC6OWYNLJdpAaLVfyab0ixzVdem8VDeLYpw1aIG5OH5Xixjf58U05Wm0DSjEF2XSMPhztewCMqcObeqhRCLwXiTxvxXELOql/485pJzMO2qGO5YeeACi1A2RKb2tqgmfSz1VqwrySOO7EniWhRxCTmJQzzb1UKoZeB4p+W1SeKZ/Q5azPe95x+xIWmZQXJwN6qsCoaw/xH967j8CJOLm11y4lu2Y2xagZXTuffslts8r6juuhVup2LyyRet/0fTjCaf6tSCL0E8PDG8wcW3sTOHDswUWl1/SifmZHp2rbpnbu8BShJl5Mf+opMXrR4VWfcV8k/xUfKhT1JeC3xxMxvYNUleU21L9IyWpVCaPCigNAAQgMAoQGA0ABAaAChAYDQAEBoACA0ABAaQGgAIDQAEBoACA0AhAYQGgAIDQCEBgBCAwChwevg/85QOKE+yDyyAAAAAElFTkSuQmCC)"
      ],
      "metadata": {
        "id": "vFccM_7A0S6J"
      }
    },
    {
      "cell_type": "markdown",
      "source": [
        "I will use this formula to normalize the non-binary features"
      ],
      "metadata": {
        "id": "xGzdMNlY0b6_"
      }
    },
    {
      "cell_type": "code",
      "source": [
        "# defining a function to normalize the data\n",
        "def NormalizeData(mydata):\n",
        "  return (mydata - np.min(mydata)) / (np.max(mydata) - np.min(mydata))"
      ],
      "metadata": {
        "id": "FIKgqYigs6Ec"
      },
      "execution_count": null,
      "outputs": []
    },
    {
      "cell_type": "code",
      "source": [
        "class DataNormalization():\n",
        "  def __init__(self, feature_name):\n",
        "    self.feature_name = feature_name\n",
        "    #print('\\n>>>>>>>init() called.\\n')\n",
        "  def fit(self, X, y=None):\n",
        "    return self\n",
        "  def transform(self, X, y=None):\n",
        "    X_ = X.copy()\n",
        "    X_[self.feature_name] = (X_[self.feature_name] - np.min(X[self.feature_name])) / (np.max(X_[self.feature_name] - np.min(X_[self.feature_name])))\n",
        "    return X_\n",
        ""
      ],
      "metadata": {
        "id": "2HSrKjFX1h8g"
      },
      "execution_count": null,
      "outputs": []
    },
    {
      "cell_type": "code",
      "source": [
        "from sklearn.pipeline import Pipeline\n",
        "\n",
        "my_pipeline = Pipeline(steps=[\n",
        "    ('normalizer', DataNormalization(numerical_features))\n",
        "])"
      ],
      "metadata": {
        "id": "tI6Z9oWbxLV2"
      },
      "execution_count": null,
      "outputs": []
    },
    {
      "cell_type": "markdown",
      "source": [
        "### Define a Model and a test it"
      ],
      "metadata": {
        "id": "oiSwL0e1456k"
      }
    },
    {
      "cell_type": "code",
      "source": [
        "# Define a metric function\n",
        "from sklearn.metrics import accuracy_score"
      ],
      "metadata": {
        "id": "4UfhFa4r6WA4"
      },
      "execution_count": null,
      "outputs": []
    },
    {
      "cell_type": "code",
      "source": [
        "from sklearn.neighbors import KNeighborsClassifier\n",
        "\n",
        "KNN_model = KNeighborsClassifier(n_neighbors=3)\n",
        "\n",
        "normalized_pipeline = Pipeline([\n",
        "    ('preprocessor', DataNormalization(numerical_features)),\n",
        "    ('model', KNN_model)\n",
        "    ])\n",
        "pipeline_no_normalization = Pipeline([\n",
        "    ('model', KNN_model)\n",
        "])\n",
        "# Normalize data and fit model\n",
        "normalized_pipeline.fit(X_train, y_train)\n",
        "pipeline_no_normalization.fit(X_train, y_train)\n",
        "#preprocessing of validation data, get predictions\n",
        "normalized_preds = normalized_pipeline.predict(X_val)\n",
        "no_normalization_preds = pipeline_no_normalization.predict(X_val)\n",
        "#Evaluate model\n",
        "score_1 = accuracy_score(y_val, no_normalization_preds)\n",
        "score_2 = accuracy_score(y_val, normalized_preds)\n",
        "\n",
        "\n",
        "print(\"Accuracy with No Data Normalization, 3 Neighbors:\", score_1)\n",
        "print(\"Accuracy with Data Normalization, 3 Neighbors:\", score_2)"
      ],
      "metadata": {
        "colab": {
          "base_uri": "https://localhost:8080/"
        },
        "id": "MVBQmSDJ2De4",
        "outputId": "8b79b890-9635-4daf-f1f8-bac017f34319"
      },
      "execution_count": null,
      "outputs": [
        {
          "output_type": "stream",
          "name": "stdout",
          "text": [
            "Accuracy with No Data Normalization, 3 Neighbors: 0.7362666666666666\n",
            "Accuracy with Data Normalization, 3 Neighbors: 0.7776\n"
          ]
        }
      ]
    },
    {
      "cell_type": "code",
      "source": [
        "y_val"
      ],
      "metadata": {
        "colab": {
          "base_uri": "https://localhost:8080/"
        },
        "id": "FRYnGKJDDrLm",
        "outputId": "674d272f-05da-4874-fd04-d5e0f7f2f9ca"
      },
      "execution_count": null,
      "outputs": [
        {
          "output_type": "execute_result",
          "data": {
            "text/plain": [
              "ID\n",
              "10748    0\n",
              "12574    1\n",
              "29677    0\n",
              "8857     1\n",
              "21099    0\n",
              "        ..\n",
              "29318    0\n",
              "18630    0\n",
              "15330    0\n",
              "14588    0\n",
              "15012    0\n",
              "Name: default, Length: 7500, dtype: int64"
            ]
          },
          "metadata": {},
          "execution_count": 17
        }
      ]
    },
    {
      "cell_type": "markdown",
      "source": [
        "Normalization definitely helps improve accuracy. I will create a function to obtain a list of metrics quickly: Accuracy, Precision, and Recall"
      ],
      "metadata": {
        "id": "xmaFCgyQ9iHC"
      }
    },
    {
      "cell_type": "code",
      "source": [
        "from sklearn.metrics import recall_score\n",
        "from sklearn.metrics import precision_score\n",
        "def score_model(X_train, X_val, y_train, y_val, model):\n",
        "  model.fit(X_train, y_train)\n",
        "  preds = model.predict(X_val)\n",
        "  Accuracy_score = accuracy_score(y_val, preds)\n",
        "  Precision_score = precision_score(y_val, preds)\n",
        "  Recall_score = recall_score(y_val, preds)\n",
        "  return {\"Accuracy Score:\": Accuracy_score, \"Precision Score:\": Precision_score, \"Recall Score:\": Recall_score}"
      ],
      "metadata": {
        "id": "gHacLaIB4ecw"
      },
      "execution_count": null,
      "outputs": []
    },
    {
      "cell_type": "code",
      "source": [
        "# Now we can be very efficient with scoring models. Here I score both models.\n",
        "models_to_test = [pipeline_no_normalization, normalized_pipeline]\n",
        "for model in models_to_test:\n",
        "  print(score_model(X_train=X_train, X_val=X_val, y_train=y_train, y_val=y_val, model=model))"
      ],
      "metadata": {
        "colab": {
          "base_uri": "https://localhost:8080/"
        },
        "id": "n9XKSBeTENEl",
        "outputId": "06a96561-5743-43d0-dffb-9e2a5e55d0da"
      },
      "execution_count": null,
      "outputs": [
        {
          "output_type": "stream",
          "name": "stdout",
          "text": [
            "{'Accuracy Score:': 0.7362666666666666, 'Precision Score:': 0.35377358490566035, 'Recall Score:': 0.22482014388489208}\n",
            "{'Accuracy Score:': 0.7609333333333334, 'Precision Score:': 0.4460742018981881, 'Recall Score:': 0.30995203836930457}\n"
          ]
        }
      ]
    },
    {
      "cell_type": "markdown",
      "source": [
        "We can see the model accuracy, precison, and recall all improves with data normalization. Notably, precision improves the most. Next, lets create functions to test different numbers of neighors."
      ],
      "metadata": {
        "id": "MlJ1JwoaFhij"
      }
    },
    {
      "cell_type": "code",
      "source": [
        "# In lecture, square root of number of observations was a suggested number for K\n",
        "import math\n",
        "number_observations = len(X_train)\n",
        "print(\"Number of training rows:\", number_observations)\n",
        "sqrt_obs = math.sqrt(number_observations)\n",
        "print(\"Square root of number of observations:\", sqrt_obs)"
      ],
      "metadata": {
        "colab": {
          "base_uri": "https://localhost:8080/"
        },
        "id": "uOpPJW_7Hg3b",
        "outputId": "d48ebeb6-027a-412b-94bb-939d2b3d3502"
      },
      "execution_count": null,
      "outputs": [
        {
          "output_type": "stream",
          "name": "stdout",
          "text": [
            "Number of training rows: 22500\n",
            "Square root of number of observations: 150.0\n"
          ]
        }
      ]
    },
    {
      "cell_type": "code",
      "source": [
        "# numpy's arange can be used to provide a list of numbers\n",
        "np.arange(3, 151, 7)\n"
      ],
      "metadata": {
        "colab": {
          "base_uri": "https://localhost:8080/"
        },
        "id": "i7-CTrxZIS-v",
        "outputId": "28b249a9-3a43-4840-82f4-4d93d05dd777"
      },
      "execution_count": null,
      "outputs": [
        {
          "output_type": "execute_result",
          "data": {
            "text/plain": [
              "array([  3,  10,  17,  24,  31,  38,  45,  52,  59,  66,  73,  80,  87,\n",
              "        94, 101, 108, 115, 122, 129, 136, 143, 150])"
            ]
          },
          "metadata": {},
          "execution_count": 25
        }
      ]
    },
    {
      "cell_type": "code",
      "source": [
        "# K | Val Accuracy\n",
        "list_of_neigbors_to_test = [x for x in np.arange(3, 151, 7)]\n",
        "print((list_of_neigbors_to_test))"
      ],
      "metadata": {
        "colab": {
          "base_uri": "https://localhost:8080/"
        },
        "id": "Bs63u3S1Ef2l",
        "outputId": "9999c4fa-b456-4f7c-dd00-18a698e3dc46"
      },
      "execution_count": null,
      "outputs": [
        {
          "output_type": "stream",
          "name": "stdout",
          "text": [
            "[3, 10, 17, 24, 31, 38, 45, 52, 59, 66, 73, 80, 87, 94, 101, 108, 115, 122, 129, 136, 143, 150]\n"
          ]
        }
      ]
    },
    {
      "cell_type": "code",
      "source": [
        "for n_neighbors in list_of_neigbors_to_test:\n",
        "  KNN_model = KNeighborsClassifier(n_neighbors=n_neighbors)\n",
        "  normalized_pipeline = Pipeline([\n",
        "    ('preprocessor', DataNormalization(numerical_features)),\n",
        "    ('model', KNN_model)\n",
        "    ])\n",
        "  print(\"Testing \",n_neighbors,\"neighbors KNN Model with Normalization...\")\n",
        "  (print(score_model(X_train=X_train, X_val=X_val, y_train=y_train, y_val=y_val, model=normalized_pipeline)))"
      ],
      "metadata": {
        "colab": {
          "base_uri": "https://localhost:8080/"
        },
        "id": "0sun1d0vI9gp",
        "outputId": "3564038c-e26d-43af-8d4c-2c3cf44a0eea"
      },
      "execution_count": null,
      "outputs": [
        {
          "output_type": "stream",
          "name": "stdout",
          "text": [
            "Testing  3 neighbors KNN Model with Normalization...\n",
            "{'Accuracy Score:': 0.7609333333333334, 'Precision Score:': 0.4460742018981881, 'Recall Score:': 0.30995203836930457}\n",
            "Testing  10 neighbors KNN Model with Normalization...\n",
            "{'Accuracy Score:': 0.7937333333333333, 'Precision Score:': 0.5898959881129272, 'Recall Score:': 0.23800959232613908}\n",
            "Testing  17 neighbors KNN Model with Normalization...\n",
            "{'Accuracy Score:': 0.7973333333333333, 'Precision Score:': 0.5902439024390244, 'Recall Score:': 0.290167865707434}\n",
            "Testing  24 neighbors KNN Model with Normalization...\n",
            "{'Accuracy Score:': 0.7976, 'Precision Score:': 0.6033057851239669, 'Recall Score:': 0.26258992805755393}\n",
            "Testing  31 neighbors KNN Model with Normalization...\n",
            "{'Accuracy Score:': 0.7985333333333333, 'Precision Score:': 0.5997458703939009, 'Recall Score:': 0.2829736211031175}\n",
            "Testing  38 neighbors KNN Model with Normalization...\n",
            "{'Accuracy Score:': 0.8026666666666666, 'Precision Score:': 0.6298342541436464, 'Recall Score:': 0.2733812949640288}\n",
            "Testing  45 neighbors KNN Model with Normalization...\n",
            "{'Accuracy Score:': 0.8021333333333334, 'Precision Score:': 0.6191709844559585, 'Recall Score:': 0.2865707434052758}\n",
            "Testing  52 neighbors KNN Model with Normalization...\n",
            "{'Accuracy Score:': 0.8037333333333333, 'Precision Score:': 0.6357340720221607, 'Recall Score:': 0.2751798561151079}\n",
            "Testing  59 neighbors KNN Model with Normalization...\n",
            "{'Accuracy Score:': 0.8033333333333333, 'Precision Score:': 0.6288384512683578, 'Recall Score:': 0.2823741007194245}\n",
            "Testing  66 neighbors KNN Model with Normalization...\n",
            "{'Accuracy Score:': 0.802, 'Precision Score:': 0.6262068965517241, 'Recall Score:': 0.27218225419664266}\n",
            "Testing  73 neighbors KNN Model with Normalization...\n",
            "{'Accuracy Score:': 0.8016, 'Precision Score:': 0.6229508196721312, 'Recall Score:': 0.2733812949640288}\n",
            "Testing  80 neighbors KNN Model with Normalization...\n",
            "{'Accuracy Score:': 0.8014666666666667, 'Precision Score:': 0.6280400572246065, 'Recall Score:': 0.263189448441247}\n",
            "Testing  87 neighbors KNN Model with Normalization...\n",
            "{'Accuracy Score:': 0.8013333333333333, 'Precision Score:': 0.6232686980609419, 'Recall Score:': 0.2697841726618705}\n",
            "Testing  94 neighbors KNN Model with Normalization...\n",
            "{'Accuracy Score:': 0.8014666666666667, 'Precision Score:': 0.6265912305516266, 'Recall Score:': 0.2655875299760192}\n",
            "Testing  101 neighbors KNN Model with Normalization...\n",
            "{'Accuracy Score:': 0.8017333333333333, 'Precision Score:': 0.624484181568088, 'Recall Score:': 0.27218225419664266}\n",
            "Testing  108 neighbors KNN Model with Normalization...\n",
            "{'Accuracy Score:': 0.8008, 'Precision Score:': 0.6253602305475504, 'Recall Score:': 0.26019184652278177}\n",
            "Testing  115 neighbors KNN Model with Normalization...\n",
            "{'Accuracy Score:': 0.8021333333333334, 'Precision Score:': 0.6288515406162465, 'Recall Score:': 0.26918465227817745}\n",
            "Testing  122 neighbors KNN Model with Normalization...\n",
            "{'Accuracy Score:': 0.8018666666666666, 'Precision Score:': 0.63, 'Recall Score:': 0.2643884892086331}\n",
            "Testing  129 neighbors KNN Model with Normalization...\n",
            "{'Accuracy Score:': 0.8017333333333333, 'Precision Score:': 0.6262203626220363, 'Recall Score:': 0.26918465227817745}\n",
            "Testing  136 neighbors KNN Model with Normalization...\n",
            "{'Accuracy Score:': 0.8018666666666666, 'Precision Score:': 0.6303724928366762, 'Recall Score:': 0.2637889688249401}\n",
            "Testing  143 neighbors KNN Model with Normalization...\n",
            "{'Accuracy Score:': 0.8025333333333333, 'Precision Score:': 0.6337625178826896, 'Recall Score:': 0.2655875299760192}\n",
            "Testing  150 neighbors KNN Model with Normalization...\n",
            "{'Accuracy Score:': 0.8028, 'Precision Score:': 0.6387665198237885, 'Recall Score:': 0.2607913669064748}\n"
          ]
        }
      ]
    },
    {
      "cell_type": "markdown",
      "source": [
        "There's a lot going on in the output cell, it may be better strategy to store these metrics in a dictionary, then create a data visualization function to plot these metrics."
      ],
      "metadata": {
        "id": "Jgd4xgzmL4O3"
      }
    },
    {
      "cell_type": "code",
      "source": [
        "def score_model(X_train, X_val, y_train, y_val, model):\n",
        "  model.fit(X_train, y_train)\n",
        "  preds = model.predict(X_val)\n",
        "  Accuracy_score = accuracy_score(y_val, preds)\n",
        "  Precision_score = precision_score(y_val, preds)\n",
        "  Recall_score = recall_score(y_val, preds)\n",
        "  return {\"Accuracy Score:\": Accuracy_score, \"Precision Score:\": Precision_score, \"Recall Score:\": Recall_score}\n"
      ],
      "metadata": {
        "id": "m_9mj_gUOqis"
      },
      "execution_count": null,
      "outputs": []
    },
    {
      "cell_type": "code",
      "source": [
        "from sklearn import metrics\n",
        "def get_metrics_dictionary(list_of_neigbors_to_test):\n",
        "  metrics_dictionary = {}\n",
        "  for n_neighbors in list_of_neigbors_to_test:\n",
        "    KNN_model = KNeighborsClassifier(n_neighbors=n_neighbors)\n",
        "    normalized_pipeline = Pipeline([\n",
        "    ('preprocessor', DataNormalization(numerical_features)),\n",
        "    ('model', KNN_model)\n",
        "    ])\n",
        "    normalized_pipeline.fit(X_train, y_train)\n",
        "    preds = normalized_pipeline.predict(X_val)\n",
        "    Accuracy_score = accuracy_score(y_val, preds)\n",
        "    Precision_score = precision_score(y_val, preds)\n",
        "    Recall_score = recall_score(y_val, preds)\n",
        "    metrics_dictionary[n_neighbors] = [Accuracy_score, Precision_score, Recall_score]\n",
        "  return metrics_dictionary\n"
      ],
      "metadata": {
        "id": "mTffLPS7J16I"
      },
      "execution_count": null,
      "outputs": []
    },
    {
      "cell_type": "code",
      "source": [
        "list_of_neigbors_to_test = [x for x in np.arange(3, 151, 7)]\n",
        "metrics_for_different_neighbors = get_metrics_dictionary(list_of_neigbors_to_test)\n",
        "print(metrics_for_different_neighbors)"
      ],
      "metadata": {
        "colab": {
          "base_uri": "https://localhost:8080/"
        },
        "id": "GaNdxuQ0N9oH",
        "outputId": "6354f5ce-14a4-439a-be6d-74abc45b4593"
      },
      "execution_count": null,
      "outputs": [
        {
          "output_type": "stream",
          "name": "stdout",
          "text": [
            "{3: [0.7609333333333334, 0.4460742018981881, 0.30995203836930457], 10: [0.7937333333333333, 0.5898959881129272, 0.23800959232613908], 17: [0.7973333333333333, 0.5902439024390244, 0.290167865707434], 24: [0.7976, 0.6033057851239669, 0.26258992805755393], 31: [0.7985333333333333, 0.5997458703939009, 0.2829736211031175], 38: [0.8026666666666666, 0.6298342541436464, 0.2733812949640288], 45: [0.8021333333333334, 0.6191709844559585, 0.2865707434052758], 52: [0.8037333333333333, 0.6357340720221607, 0.2751798561151079], 59: [0.8033333333333333, 0.6288384512683578, 0.2823741007194245], 66: [0.802, 0.6262068965517241, 0.27218225419664266], 73: [0.8016, 0.6229508196721312, 0.2733812949640288], 80: [0.8014666666666667, 0.6280400572246065, 0.263189448441247], 87: [0.8013333333333333, 0.6232686980609419, 0.2697841726618705], 94: [0.8014666666666667, 0.6265912305516266, 0.2655875299760192], 101: [0.8017333333333333, 0.624484181568088, 0.27218225419664266], 108: [0.8008, 0.6253602305475504, 0.26019184652278177], 115: [0.8021333333333334, 0.6288515406162465, 0.26918465227817745], 122: [0.8018666666666666, 0.63, 0.2643884892086331], 129: [0.8017333333333333, 0.6262203626220363, 0.26918465227817745], 136: [0.8018666666666666, 0.6303724928366762, 0.2637889688249401], 143: [0.8025333333333333, 0.6337625178826896, 0.2655875299760192], 150: [0.8028, 0.6387665198237885, 0.2607913669064748]}\n"
          ]
        }
      ]
    },
    {
      "cell_type": "code",
      "source": [
        "accuracy_list = [elem[0] for elem in metrics_for_different_neighbors.values()]\n",
        "precision_list = [elem[1] for elem in metrics_for_different_neighbors.values()]\n",
        "recall_list = [elem[2] for elem in metrics_for_different_neighbors.values()]"
      ],
      "metadata": {
        "id": "3ZEJjogsQEjD"
      },
      "execution_count": null,
      "outputs": []
    },
    {
      "cell_type": "markdown",
      "source": [
        "### Figure 1: Plotting Accuracy vs. K neighbors\n",
        "\n",
        "\n"
      ],
      "metadata": {
        "id": "ZzapoNMRBkQX"
      }
    },
    {
      "cell_type": "code",
      "source": [
        "from matplotlib import pyplot as plt\n",
        "y = accuracy_list\n",
        "x = list_of_neigbors_to_test\n",
        "# naming the x axis\n",
        "fig, ax = plt.subplots()\n",
        "ax.set_xticks(list_of_neigbors_to_test)\n",
        "ax.set_title('Accuracy', fontsize=16)\n",
        "plt.xlabel('Number of Neighbors')\n",
        "# naming the y axis\n",
        "plt.ylabel('Accuracy Metric')\n",
        "\n",
        "fig.set_size_inches(8, 5)\n",
        "plt.plot(x,y)\n",
        "plt.show()"
      ],
      "metadata": {
        "colab": {
          "base_uri": "https://localhost:8080/",
          "height": 352
        },
        "id": "CBGgsOWKRowD",
        "outputId": "ca48825c-0130-4718-ced6-f23418995641"
      },
      "execution_count": null,
      "outputs": [
        {
          "output_type": "display_data",
          "data": {
            "text/plain": [
              "<Figure size 576x360 with 1 Axes>"
            ],
            "image/png": "[encoded data removed]"
          },
          "metadata": {
            "needs_background": "light"
          }
        }
      ]
    },
    {
      "cell_type": "markdown",
      "source": [
        "### Figure 2: Plotting Precision vs. K neighbors\n",
        "\n",
        "\n"
      ],
      "metadata": {
        "id": "b0783SHxBmZe"
      }
    },
    {
      "cell_type": "code",
      "source": [
        "y = precision_list\n",
        "x = list_of_neigbors_to_test\n",
        "# naming the x axis\n",
        "fig, ax = plt.subplots()\n",
        "ax.set_xticks(list_of_neigbors_to_test)\n",
        "ax.set_title('Precision', fontsize=16)\n",
        "\n",
        "plt.xlabel('Number of Neighbors')\n",
        "# naming the y axis\n",
        "plt.ylabel('Precision Metric')\n",
        "\n",
        "fig.set_size_inches(8,5)\n",
        "plt.plot(x,y)\n",
        "plt.show()"
      ],
      "metadata": {
        "colab": {
          "base_uri": "https://localhost:8080/",
          "height": 352
        },
        "id": "bkI3ksZcTHLl",
        "outputId": "3fc20343-fd73-46ba-8534-5c80d6158e49"
      },
      "execution_count": null,
      "outputs": [
        {
          "output_type": "display_data",
          "data": {
            "text/plain": [
              "<Figure size 576x360 with 1 Axes>"
            ],
            "image/png": "[encoded data removed]"
          },
          "metadata": {
            "needs_background": "light"
          }
        }
      ]
    },
    {
      "cell_type": "markdown",
      "source": [
        "### Figure 3: Plotting Recall vs. K neighbors"
      ],
      "metadata": {
        "id": "PWTcdgCUBoaI"
      }
    },
    {
      "cell_type": "code",
      "source": [
        "y = recall_list\n",
        "x = list_of_neigbors_to_test\n",
        "# naming the x axis\n",
        "fig, ax = plt.subplots()\n",
        "ax.set_xticks(list_of_neigbors_to_test)\n",
        "ax.set_title('Recall', fontsize=16)\n",
        "plt.xlabel('Number of Neighbors')\n",
        "# naming the y axis\n",
        "plt.ylabel('Recall Metric')\n",
        "fig.set_size_inches(8,5)\n",
        "\n",
        "plt.plot(x,y)\n",
        "plt.show()"
      ],
      "metadata": {
        "colab": {
          "base_uri": "https://localhost:8080/",
          "height": 352
        },
        "id": "89fZsPKfUvK3",
        "outputId": "0521705b-7358-4adc-a549-3dcfffd22a76"
      },
      "execution_count": null,
      "outputs": [
        {
          "output_type": "display_data",
          "data": {
            "text/plain": [
              "<Figure size 576x360 with 1 Axes>"
            ],
            "image/png": "[encoded data removed]"
          },
          "metadata": {
            "needs_background": "light"
          }
        }
      ]
    },
    {
      "cell_type": "code",
      "source": [
        "print(\"Accuracy, Precision and Recall for 52 neighbors:\",metrics_for_different_neighbors[52])"
      ],
      "metadata": {
        "colab": {
          "base_uri": "https://localhost:8080/"
        },
        "id": "-VecyQqjYlGO",
        "outputId": "c66f0ecd-d44c-4694-9797-d8bd2f5fb55d"
      },
      "execution_count": null,
      "outputs": [
        {
          "output_type": "stream",
          "name": "stdout",
          "text": [
            "Accuracy, Precision and Recall for 52 neighbors: [0.8037333333333333, 0.6357340720221607, 0.2751798561151079]\n"
          ]
        }
      ]
    },
    {
      "cell_type": "markdown",
      "source": [
        "After examining each plot, it appears 52 neighbors is a good value for higher accuracy 80.3%, higher precision 63.5%, and lower recall 25%. What High Precision and Low Recall (>.5) means for the model is it will return fewer True (Creditor Defaults) results, but it will be more likely to be accurate."
      ],
      "metadata": {
        "id": "M1hTY6txXaiW"
      }
    },
    {
      "cell_type": "markdown",
      "source": [
        "Another way to put this:  \n",
        "\n",
        "*   the normalized, 52 neighbors KNN model will predict whether someone defaults correctly True or False 80.3% of the time (Accuracy)\n",
        "*    when the Model identifies someone as defaulting it is correct 63.5% of the time (Precision = Predicts Default Correctly/(True Default + Incorrectly Predicted Default)\n",
        "*    and IF there is default (True case), it will capture it 25% of the time (Recall = Predicts Default Correctly/(True Default + Missed Defualt)).\n",
        "\n",
        "I could also parameter tune Leaf Size and Euclidean Distance (p), but I will stop tuning here to pursue K-Fold Cross Validation."
      ],
      "metadata": {
        "id": "jDsOrEelaDNK"
      }
    },
    {
      "cell_type": "markdown",
      "source": [
        "### Figure 4: ROC Curve\n"
      ],
      "metadata": {
        "id": "8VQ_FSsApsM4"
      }
    },
    {
      "cell_type": "code",
      "source": [
        "from sklearn.metrics import roc_curve\n",
        "KNN_model = KNeighborsClassifier(n_neighbors=52)\n",
        "normalized_pipeline = Pipeline([\n",
        "  ('preprocessor', DataNormalization(numerical_features)),\n",
        "  ('model', KNN_model)\n",
        "  ])\n",
        "\n",
        "normalized_pipeline.fit(X_train, y_train)\n",
        "\n",
        "threshold = 0.5\n",
        "y_pred_prob = normalized_pipeline.predict_proba(X_val)[:,1]\n",
        "y_pred = (y_pred_prob > threshold).astype(int)\n",
        "fpr, tpr, ths = roc_curve(y_val, y_pred_prob)"
      ],
      "metadata": {
        "id": "bwpvw3iJpuLP"
      },
      "execution_count": null,
      "outputs": []
    },
    {
      "cell_type": "code",
      "source": [
        "fig, ax = plt.subplots(figsize=(8,5))\n",
        "ax.plot(fpr,tpr)\n",
        "ax.set_title('ROC curve', fontsize=16)\n",
        "ax.set_xlabel('False positive rate', fontsize=14)\n",
        "ax.set_ylabel('Recall, true negative rate', fontsize=14)\n",
        "ax.grid();"
      ],
      "metadata": {
        "colab": {
          "base_uri": "https://localhost:8080/",
          "height": 356
        },
        "id": "0ttA0LsOrJsu",
        "outputId": "91d31ea5-bbd8-4d02-9549-08357bd6f31c"
      },
      "execution_count": null,
      "outputs": [
        {
          "output_type": "display_data",
          "data": {
            "text/plain": [
              "<Figure size 576x360 with 1 Axes>"
            ],
            "image/png": "[encoded data removed]"
          },
          "metadata": {
            "needs_background": "light"
          }
        }
      ]
    },
    {
      "cell_type": "markdown",
      "source": [
        "### K-fold Cross Validation\n",
        "What if the validation data set I picked is not the most representative? K-Fold cross validation can give me metrics that are more representative of the model. I will use 52 neighbors and data normalization and 10 cross folds and obtain metrics for them."
      ],
      "metadata": {
        "id": "5ig8aN_3dWVv"
      }
    },
    {
      "cell_type": "code",
      "source": [
        "KNN_model = KNeighborsClassifier(n_neighbors=52)\n",
        "normalized_pipeline = Pipeline([\n",
        "  ('preprocessor', DataNormalization(numerical_features)),\n",
        "  ('model', KNN_model)\n",
        "  ])"
      ],
      "metadata": {
        "id": "QSVC8AldU4At"
      },
      "execution_count": null,
      "outputs": []
    },
    {
      "cell_type": "code",
      "source": [
        "from sklearn.model_selection import cross_val_score\n",
        "#X_2 is X_train without val split, same for y_@\n",
        "cv10_accuracy_scores = cross_val_score(normalized_pipeline, X_2, y_2,\n",
        "                         cv=10,\n",
        "                         scoring='accuracy')\n",
        "cv10_precision_scores = cross_val_score(normalized_pipeline, X_2, y_2,\n",
        "                         cv=10,\n",
        "                         scoring='precision')\n",
        "cv10_recall_scores = cross_val_score(normalized_pipeline, X_2, y_2,\n",
        "                         cv=10,\n",
        "                         scoring='recall')\n",
        "print(\"Accuracy Scores:\\n\", cv10_accuracy_scores)\n",
        "print(\"Precision Scores:\\n\", cv10_precision_scores)\n",
        "print(\"Recall Scores:\\n\", cv10_recall_scores)"
      ],
      "metadata": {
        "colab": {
          "base_uri": "https://localhost:8080/"
        },
        "id": "KGqIvp1yd8MN",
        "outputId": "88a63465-98c0-49cc-b0a9-d1832075d40d"
      },
      "execution_count": null,
      "outputs": [
        {
          "output_type": "stream",
          "name": "stdout",
          "text": [
            "Accuracy Scores:\n",
            " [0.80416667 0.80666667 0.805      0.79333333 0.79791667 0.80333333\n",
            " 0.79625    0.80458333 0.80416667 0.81291667]\n",
            "Precision Scores:\n",
            " [0.63043478 0.63414634 0.63135593 0.58018868 0.61780105 0.62946429\n",
            " 0.59276018 0.62151394 0.63636364 0.67391304]\n",
            "Recall Scores:\n",
            " [0.27358491 0.29433962 0.28113208 0.23207547 0.22264151 0.26603774\n",
            " 0.24716981 0.29433962 0.26415094 0.29300567]\n"
          ]
        }
      ]
    },
    {
      "cell_type": "code",
      "source": [
        "import statistics\n",
        "print(\"Average Accuracy with 10 crossfolds:\\n\", statistics.mean(cv10_accuracy_scores))\n",
        "print(\"Average Precision with 10 crossfolds:\\n\", statistics.mean(cv10_precision_scores))\n",
        "print(\"Average Recall with 10 crossfolds:\\n\", statistics.mean(cv10_recall_scores))"
      ],
      "metadata": {
        "colab": {
          "base_uri": "https://localhost:8080/"
        },
        "id": "ipkaJCHasY5J",
        "outputId": "ee5424e2-f0c1-43ba-da50-c9f2c11f09f2"
      },
      "execution_count": null,
      "outputs": [
        {
          "output_type": "stream",
          "name": "stdout",
          "text": [
            "Average Accuracy with 10 crossfolds:\n",
            " 0.8028333333333333\n",
            "Average Precision with 10 crossfolds:\n",
            " 0.6247941873415968\n",
            "Average Recall with 10 crossfolds:\n",
            " 0.2668477369190712\n"
          ]
        }
      ]
    },
    {
      "cell_type": "markdown",
      "source": [
        "### Confusion Matrix"
      ],
      "metadata": {
        "id": "URuQm4cGuTe0"
      }
    },
    {
      "cell_type": "code",
      "source": [
        "from sklearn.metrics import confusion_matrix\n",
        "def CM(y_true, y_pred):\n",
        "  M = confusion_matrix(y_true, y_pred)\n",
        "  out = pd.DataFrame(M, index=[\"Obs Paid\", \"Obs Default\"], columns=[\"Pred Paid\", \"Pred default\"])\n",
        "  return out"
      ],
      "metadata": {
        "id": "stomP2g1sbu5"
      },
      "execution_count": null,
      "outputs": []
    },
    {
      "cell_type": "code",
      "source": [
        "threshold = 0.5\n",
        "normalized_pipeline.fit(X_train, y_train)\n",
        "y_pred_prob = normalized_pipeline.predict_proba(X_val)[:,1]\n",
        "y_pred = (y_pred_prob > threshold).astype(int)"
      ],
      "metadata": {
        "id": "T6dIqaW8u3wg"
      },
      "execution_count": null,
      "outputs": []
    },
    {
      "cell_type": "code",
      "source": [
        "CM(y_val, y_pred)"
      ],
      "metadata": {
        "colab": {
          "base_uri": "https://localhost:8080/",
          "height": 112
        },
        "id": "6DEfF8hDvM6T",
        "outputId": "ac4d4697-e413-4c7a-80a8-21afcb429d46"
      },
      "execution_count": null,
      "outputs": [
        {
          "output_type": "execute_result",
          "data": {
            "text/plain": [
              "             Pred Paid  Pred default\n",
              "Obs Paid          5569           263\n",
              "Obs Default       1209           459"
            ],
            "text/html": [
              "\n",
              "  <div id=\"df-97f959fc-d94f-48cb-a67a-53fcffd20144\">\n",
              "    <div class=\"colab-df-container\">\n",
              "      <div>\n",
              "<style scoped>\n",
              "    .dataframe tbody tr th:only-of-type {\n",
              "        vertical-align: middle;\n",
              "    }\n",
              "\n",
              "    .dataframe tbody tr th {\n",
              "        vertical-align: top;\n",
              "    }\n",
              "\n",
              "    .dataframe thead th {\n",
              "        text-align: right;\n",
              "    }\n",
              "</style>\n",
              "<table border=\"1\" class=\"dataframe\">\n",
              "  <thead>\n",
              "    <tr style=\"text-align: right;\">\n",
              "      <th></th>\n",
              "      <th>Pred Paid</th>\n",
              "      <th>Pred default</th>\n",
              "    </tr>\n",
              "  </thead>\n",
              "  <tbody>\n",
              "    <tr>\n",
              "      <th>Obs Paid</th>\n",
              "      <td>5569</td>\n",
              "      <td>263</td>\n",
              "    </tr>\n",
              "    <tr>\n",
              "      <th>Obs Default</th>\n",
              "      <td>1209</td>\n",
              "      <td>459</td>\n",
              "    </tr>\n",
              "  </tbody>\n",
              "</table>\n",
              "</div>\n",
              "      <button class=\"colab-df-convert\" onclick=\"convertToInteractive('df-97f959fc-d94f-48cb-a67a-53fcffd20144')\"\n",
              "              title=\"Convert this dataframe to an interactive table.\"\n",
              "              style=\"display:none;\">\n",
              "        \n",
              "  <svg xmlns=\"http://www.w3.org/2000/svg\" height=\"24px\"viewBox=\"0 0 24 24\"\n",
              "       width=\"24px\">\n",
              "    <path d=\"M0 0h24v24H0V0z\" fill=\"none\"/>\n",
              "    <path d=\"M18.56 5.44l.94 2.06.94-2.06 2.06-.94-2.06-.94-.94-2.06-.94 2.06-2.06.94zm-11 1L8.5 8.5l.94-2.06 2.06-.94-2.06-.94L8.5 2.5l-.94 2.06-2.06.94zm10 10l.94 2.06.94-2.06 2.06-.94-2.06-.94-.94-2.06-.94 2.06-2.06.94z\"/><path d=\"M17.41 7.96l-1.37-1.37c-.4-.4-.92-.59-1.43-.59-.52 0-1.04.2-1.43.59L10.3 9.45l-7.72 7.72c-.78.78-.78 2.05 0 2.83L4 21.41c.39.39.9.59 1.41.59.51 0 1.02-.2 1.41-.59l7.78-7.78 2.81-2.81c.8-.78.8-2.07 0-2.86zM5.41 20L4 18.59l7.72-7.72 1.47 1.35L5.41 20z\"/>\n",
              "  </svg>\n",
              "      </button>\n",
              "      \n",
              "  <style>\n",
              "    .colab-df-container {\n",
              "      display:flex;\n",
              "      flex-wrap:wrap;\n",
              "      gap: 12px;\n",
              "    }\n",
              "\n",
              "    .colab-df-convert {\n",
              "      background-color: #E8F0FE;\n",
              "      border: none;\n",
              "      border-radius: 50%;\n",
              "      cursor: pointer;\n",
              "      display: none;\n",
              "      fill: #1967D2;\n",
              "      height: 32px;\n",
              "      padding: 0 0 0 0;\n",
              "      width: 32px;\n",
              "    }\n",
              "\n",
              "    .colab-df-convert:hover {\n",
              "      background-color: #E2EBFA;\n",
              "      box-shadow: 0px 1px 2px rgba(60, 64, 67, 0.3), 0px 1px 3px 1px rgba(60, 64, 67, 0.15);\n",
              "      fill: #174EA6;\n",
              "    }\n",
              "\n",
              "    [theme=dark] .colab-df-convert {\n",
              "      background-color: #3B4455;\n",
              "      fill: #D2E3FC;\n",
              "    }\n",
              "\n",
              "    [theme=dark] .colab-df-convert:hover {\n",
              "      background-color: #434B5C;\n",
              "      box-shadow: 0px 1px 3px 1px rgba(0, 0, 0, 0.15);\n",
              "      filter: drop-shadow(0px 1px 2px rgba(0, 0, 0, 0.3));\n",
              "      fill: #FFFFFF;\n",
              "    }\n",
              "  </style>\n",
              "\n",
              "      <script>\n",
              "        const buttonEl =\n",
              "          document.querySelector('#df-97f959fc-d94f-48cb-a67a-53fcffd20144 button.colab-df-convert');\n",
              "        buttonEl.style.display =\n",
              "          google.colab.kernel.accessAllowed ? 'block' : 'none';\n",
              "\n",
              "        async function convertToInteractive(key) {\n",
              "          const element = document.querySelector('#df-97f959fc-d94f-48cb-a67a-53fcffd20144');\n",
              "          const dataTable =\n",
              "            await google.colab.kernel.invokeFunction('convertToInteractive',\n",
              "                                                     [key], {});\n",
              "          if (!dataTable) return;\n",
              "\n",
              "          const docLinkHtml = 'Like what you see? Visit the ' +\n",
              "            '<a target=\"_blank\" href=https://colab.research.google.com/notebooks/data_table.ipynb>data table notebook</a>'\n",
              "            + ' to learn more about interactive tables.';\n",
              "          element.innerHTML = '';\n",
              "          dataTable['output_type'] = 'display_data';\n",
              "          await google.colab.output.renderOutput(dataTable, element);\n",
              "          const docLink = document.createElement('div');\n",
              "          docLink.innerHTML = docLinkHtml;\n",
              "          element.appendChild(docLink);\n",
              "        }\n",
              "      </script>\n",
              "    </div>\n",
              "  </div>\n",
              "  "
            ]
          },
          "metadata": {},
          "execution_count": 45
        }
      ]
    },
    {
      "cell_type": "markdown",
      "source": [
        "Finally, analyzing using Test data"
      ],
      "metadata": {
        "id": "329f7PE7vbKs"
      }
    },
    {
      "cell_type": "code",
      "source": [
        "#using full data training data, X_train + X_val\n",
        "score_model(X_train=X_2, X_val=X_test, y_train=y_2, y_val=y_test, model=normalized_pipeline)"
      ],
      "metadata": {
        "colab": {
          "base_uri": "https://localhost:8080/"
        },
        "id": "vHo8RNcXvZUo",
        "outputId": "ff9636e4-ff88-4fe3-d283-9a67d16e3ea2"
      },
      "execution_count": null,
      "outputs": [
        {
          "output_type": "execute_result",
          "data": {
            "text/plain": [
              "{'Accuracy Score:': 0.8038333333333333,\n",
              " 'Precision Score:': 0.6438848920863309,\n",
              " 'Recall Score:': 0.2677636499626028}"
            ]
          },
          "metadata": {},
          "execution_count": 46
        }
      ]
    },
    {
      "cell_type": "code",
      "source": [
        "threshold = 0.5\n",
        "normalized_pipeline.fit(X_2, y_2)\n",
        "y_pred_prob = normalized_pipeline.predict_proba(X_test)[:,1]\n",
        "y_pred = (y_pred_prob > threshold).astype(int)\n",
        "CM(y_test, y_pred)"
      ],
      "metadata": {
        "colab": {
          "base_uri": "https://localhost:8080/",
          "height": 112
        },
        "id": "FTlc-cynwCFB",
        "outputId": "ab6c905f-ac49-4138-af56-8687f037b712"
      },
      "execution_count": null,
      "outputs": [
        {
          "output_type": "execute_result",
          "data": {
            "text/plain": [
              "             Pred Paid  Pred default\n",
              "Obs Paid          4465           198\n",
              "Obs Default        979           358"
            ],
            "text/html": [
              "\n",
              "  <div id=\"df-8ff7c20c-1ec5-4ee3-aa00-6aac14af383b\">\n",
              "    <div class=\"colab-df-container\">\n",
              "      <div>\n",
              "<style scoped>\n",
              "    .dataframe tbody tr th:only-of-type {\n",
              "        vertical-align: middle;\n",
              "    }\n",
              "\n",
              "    .dataframe tbody tr th {\n",
              "        vertical-align: top;\n",
              "    }\n",
              "\n",
              "    .dataframe thead th {\n",
              "        text-align: right;\n",
              "    }\n",
              "</style>\n",
              "<table border=\"1\" class=\"dataframe\">\n",
              "  <thead>\n",
              "    <tr style=\"text-align: right;\">\n",
              "      <th></th>\n",
              "      <th>Pred Paid</th>\n",
              "      <th>Pred default</th>\n",
              "    </tr>\n",
              "  </thead>\n",
              "  <tbody>\n",
              "    <tr>\n",
              "      <th>Obs Paid</th>\n",
              "      <td>4465</td>\n",
              "      <td>198</td>\n",
              "    </tr>\n",
              "    <tr>\n",
              "      <th>Obs Default</th>\n",
              "      <td>979</td>\n",
              "      <td>358</td>\n",
              "    </tr>\n",
              "  </tbody>\n",
              "</table>\n",
              "</div>\n",
              "      <button class=\"colab-df-convert\" onclick=\"convertToInteractive('df-8ff7c20c-1ec5-4ee3-aa00-6aac14af383b')\"\n",
              "              title=\"Convert this dataframe to an interactive table.\"\n",
              "              style=\"display:none;\">\n",
              "        \n",
              "  <svg xmlns=\"http://www.w3.org/2000/svg\" height=\"24px\"viewBox=\"0 0 24 24\"\n",
              "       width=\"24px\">\n",
              "    <path d=\"M0 0h24v24H0V0z\" fill=\"none\"/>\n",
              "    <path d=\"M18.56 5.44l.94 2.06.94-2.06 2.06-.94-2.06-.94-.94-2.06-.94 2.06-2.06.94zm-11 1L8.5 8.5l.94-2.06 2.06-.94-2.06-.94L8.5 2.5l-.94 2.06-2.06.94zm10 10l.94 2.06.94-2.06 2.06-.94-2.06-.94-.94-2.06-.94 2.06-2.06.94z\"/><path d=\"M17.41 7.96l-1.37-1.37c-.4-.4-.92-.59-1.43-.59-.52 0-1.04.2-1.43.59L10.3 9.45l-7.72 7.72c-.78.78-.78 2.05 0 2.83L4 21.41c.39.39.9.59 1.41.59.51 0 1.02-.2 1.41-.59l7.78-7.78 2.81-2.81c.8-.78.8-2.07 0-2.86zM5.41 20L4 18.59l7.72-7.72 1.47 1.35L5.41 20z\"/>\n",
              "  </svg>\n",
              "      </button>\n",
              "      \n",
              "  <style>\n",
              "    .colab-df-container {\n",
              "      display:flex;\n",
              "      flex-wrap:wrap;\n",
              "      gap: 12px;\n",
              "    }\n",
              "\n",
              "    .colab-df-convert {\n",
              "      background-color: #E8F0FE;\n",
              "      border: none;\n",
              "      border-radius: 50%;\n",
              "      cursor: pointer;\n",
              "      display: none;\n",
              "      fill: #1967D2;\n",
              "      height: 32px;\n",
              "      padding: 0 0 0 0;\n",
              "      width: 32px;\n",
              "    }\n",
              "\n",
              "    .colab-df-convert:hover {\n",
              "      background-color: #E2EBFA;\n",
              "      box-shadow: 0px 1px 2px rgba(60, 64, 67, 0.3), 0px 1px 3px 1px rgba(60, 64, 67, 0.15);\n",
              "      fill: #174EA6;\n",
              "    }\n",
              "\n",
              "    [theme=dark] .colab-df-convert {\n",
              "      background-color: #3B4455;\n",
              "      fill: #D2E3FC;\n",
              "    }\n",
              "\n",
              "    [theme=dark] .colab-df-convert:hover {\n",
              "      background-color: #434B5C;\n",
              "      box-shadow: 0px 1px 3px 1px rgba(0, 0, 0, 0.15);\n",
              "      filter: drop-shadow(0px 1px 2px rgba(0, 0, 0, 0.3));\n",
              "      fill: #FFFFFF;\n",
              "    }\n",
              "  </style>\n",
              "\n",
              "      <script>\n",
              "        const buttonEl =\n",
              "          document.querySelector('#df-8ff7c20c-1ec5-4ee3-aa00-6aac14af383b button.colab-df-convert');\n",
              "        buttonEl.style.display =\n",
              "          google.colab.kernel.accessAllowed ? 'block' : 'none';\n",
              "\n",
              "        async function convertToInteractive(key) {\n",
              "          const element = document.querySelector('#df-8ff7c20c-1ec5-4ee3-aa00-6aac14af383b');\n",
              "          const dataTable =\n",
              "            await google.colab.kernel.invokeFunction('convertToInteractive',\n",
              "                                                     [key], {});\n",
              "          if (!dataTable) return;\n",
              "\n",
              "          const docLinkHtml = 'Like what you see? Visit the ' +\n",
              "            '<a target=\"_blank\" href=https://colab.research.google.com/notebooks/data_table.ipynb>data table notebook</a>'\n",
              "            + ' to learn more about interactive tables.';\n",
              "          element.innerHTML = '';\n",
              "          dataTable['output_type'] = 'display_data';\n",
              "          await google.colab.output.renderOutput(dataTable, element);\n",
              "          const docLink = document.createElement('div');\n",
              "          docLink.innerHTML = docLinkHtml;\n",
              "          element.appendChild(docLink);\n",
              "        }\n",
              "      </script>\n",
              "    </div>\n",
              "  </div>\n",
              "  "
            ]
          },
          "metadata": {},
          "execution_count": 47
        }
      ]
    },
    {
      "cell_type": "markdown",
      "source": [
        "### Figure 5: Plotting ROC Curve with final KNN model, 52 neighbors, data normalization"
      ],
      "metadata": {
        "id": "nbSkjFLfBt1l"
      }
    },
    {
      "cell_type": "code",
      "source": [
        "fpr, tpr, ths = roc_curve(y_test, y_pred_prob)\n",
        "fig, ax = plt.subplots(figsize=(8,5))\n",
        "ax.plot(fpr,tpr)\n",
        "ax.set_title('Test Data ROC curve', fontsize=16)\n",
        "ax.set_xlabel('False positive rate', fontsize=14)\n",
        "ax.set_ylabel('Recall, true negative rate', fontsize=14)\n",
        "ax.grid();"
      ],
      "metadata": {
        "colab": {
          "base_uri": "https://localhost:8080/",
          "height": 356
        },
        "id": "Bu1RWdv1wO6R",
        "outputId": "f16b0d77-18a0-4d32-9ca9-8623e1b27694"
      },
      "execution_count": null,
      "outputs": [
        {
          "output_type": "display_data",
          "data": {
            "text/plain": [
              "<Figure size 576x360 with 1 Axes>"
            ],
            "image/png": "[encoded data removed]"
          },
          "metadata": {
            "needs_background": "light"
          }
        }
      ]
    },
    {
      "cell_type": "markdown",
      "source": [
        "### Figure 6: Plotting Distribution of Predicted Probabilities"
      ],
      "metadata": {
        "id": "WxlzOo7VB2kQ"
      }
    },
    {
      "cell_type": "code",
      "source": [
        "fig, ax = plt.subplots(figsize=(8,5))\n",
        "sns.kdeplot(y_pred_prob[y_test==1], shade=True, color='red',\n",
        "            label=\"Observed Defaults\", ax=ax)\n",
        "sns.kdeplot(y_pred_prob[y_test==0], shade=True, color='green',\n",
        "            label=\"Observed Paid\", ax=ax)\n",
        "ax.set_title(\"Distribution of predicted probabilities\", fontsize=16)\n",
        "ax.set_xlabel('Model\\'s Prediction about Probability of Default, 0 to 1', fontsize=14)\n",
        "ax.legend()\n",
        "plt.grid();"
      ],
      "metadata": {
        "colab": {
          "base_uri": "https://localhost:8080/",
          "height": 356
        },
        "id": "6fFkiheeweAF",
        "outputId": "d74305d6-6c84-4e75-e97d-079d7a3412fc"
      },
      "execution_count": null,
      "outputs": [
        {
          "output_type": "display_data",
          "data": {
            "text/plain": [
              "<Figure size 576x360 with 1 Axes>"
            ],
            "image/png": "[encoded data removed]"
          },
          "metadata": {
            "needs_background": "light"
          }
        }
      ]
    },
    {
      "cell_type": "markdown",
      "source": [
        "When the model predicts a low probability, there's a good chance the observation is paid and not default, but when the model predicts a high probability, there is a very good chance the customer is going to default. Ideally, we'd want to see these curves separated completely."
      ],
      "metadata": {
        "id": "REXZHE3vnAgJ"
      }
    }
  ]
}